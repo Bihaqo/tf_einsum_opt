{
 "cells": [
  {
   "cell_type": "code",
   "execution_count": 1,
   "metadata": {
    "collapsed": false,
    "deletable": true,
    "editable": true
   },
   "outputs": [],
   "source": [
    "import tf_einsum_opt\n",
    "import tensorflow as tf\n",
    "import numpy as np"
   ]
  },
  {
   "cell_type": "code",
   "execution_count": 2,
   "metadata": {
    "collapsed": false,
    "deletable": true,
    "editable": true
   },
   "outputs": [],
   "source": [
    "sess = tf.Session()"
   ]
  },
  {
   "cell_type": "markdown",
   "metadata": {},
   "source": [
    "# Small scale example"
   ]
  },
  {
   "cell_type": "code",
   "execution_count": 3,
   "metadata": {
    "collapsed": false,
    "deletable": true,
    "editable": true
   },
   "outputs": [
    {
     "name": "stdout",
     "output_type": "stream",
     "text": [
      "Found 2 einsums.\n",
      "The running time of the whole function is 0.000356 s\n",
      "Einsums constitue 153.0 % of the running time (0.000544 s).\n",
      "Optimizing einsum in <ipython-input-3-8750a51928fb>:2, it constitues 84.3% of the overall running time (0.000300 s).\n",
      "By changing the order of einsum in \"<ipython-input-3-8750a51928fb>:2\" to [0 2 1] you program will run 14.7 % faster.\n",
      "Optimizing einsum in <ipython-input-3-8750a51928fb>:3, it constitues 68.7% of the overall running time (0.000244 s).\n",
      "Einsum improvements haven't found, good work!\n",
      "The overall predicted savings from all the recommendations are 14.685877%\n"
     ]
    }
   ],
   "source": [
    "def func(a, b, c):\n",
    "    res = tf.einsum('ijk,ja,kb->iab', a, b, c) + 1\n",
    "    res = tf.einsum('iab,kb->iak', res, c)\n",
    "    return res\n",
    "a = tf.random_normal((10, 11, 12))\n",
    "b = tf.random_normal((11, 13))\n",
    "c = tf.random_normal((12, 14))\n",
    "# res = func(a, b, c)\n",
    "orders, optimized_func = tf_einsum_opt.optimizer(func, sess, a, b, c)"
   ]
  },
  {
   "cell_type": "code",
   "execution_count": 8,
   "metadata": {
    "collapsed": false
   },
   "outputs": [
    {
     "name": "stdout",
     "output_type": "stream",
     "text": [
      "The slowest run took 60.63 times longer than the fastest. This could mean that an intermediate result is being cached.\n",
      "1000 loops, best of 3: 369 µs per loop\n"
     ]
    }
   ],
   "source": [
    "res1 = func(a, b, c)\n",
    "%timeit sess.run(res1)"
   ]
  },
  {
   "cell_type": "code",
   "execution_count": 9,
   "metadata": {
    "collapsed": false,
    "deletable": true,
    "editable": true
   },
   "outputs": [
    {
     "name": "stdout",
     "output_type": "stream",
     "text": [
      "The slowest run took 53.60 times longer than the fastest. This could mean that an intermediate result is being cached.\n",
      "1000 loops, best of 3: 332 µs per loop\n"
     ]
    }
   ],
   "source": [
    "res2 = optimized_func(a, b, c)\n",
    "%timeit sess.run(res2)"
   ]
  },
  {
   "cell_type": "code",
   "execution_count": 12,
   "metadata": {
    "collapsed": false
   },
   "outputs": [],
   "source": [
    "# Check that the results of optimized and the original function are the same.\n",
    "np.testing.assert_allclose(*sess.run([res1, res2]), rtol=1e-5, atol=1e-5)"
   ]
  },
  {
   "cell_type": "markdown",
   "metadata": {},
   "source": [
    "# Example with more savings, but slower to optimize"
   ]
  },
  {
   "cell_type": "code",
   "execution_count": 13,
   "metadata": {
    "collapsed": false
   },
   "outputs": [
    {
     "name": "stdout",
     "output_type": "stream",
     "text": [
      "Found 2 einsums.\n",
      "The running time of the whole function is 1.398991 s\n",
      "Einsums constitue 109.4 % of the running time (1.530153 s).\n",
      "Optimizing einsum in <ipython-input-13-1748bfc6b08e>:2, it constitues 109.3% of the overall running time (1.529651 s).\n",
      "By changing the order of einsum in \"<ipython-input-13-1748bfc6b08e>:2\" to [0 3 1 2] you program will run 109.3 % faster.\n",
      "The rest of einsums are using < 10% of the overall running time each, we will not gain much by optimizing them.\n",
      "The overall predicted savings from all the recommendations are 109.290959%\n"
     ]
    }
   ],
   "source": [
    "def func(a, b, c, d):\n",
    "    res = tf.einsum('si,sj,sk,ij->s', a, b, d, c)\n",
    "    res += tf.einsum('s,si->s', res, a)\n",
    "    return res\n",
    "a = tf.random_normal((100, 101))\n",
    "b = tf.random_normal((100, 102))\n",
    "c = tf.random_normal((101, 102))\n",
    "d = tf.random_normal((100, 30))\n",
    "orders, optimized_func = tf_einsum_opt.optimizer(func, sess, a, b, c, d)"
   ]
  },
  {
   "cell_type": "code",
   "execution_count": 5,
   "metadata": {
    "collapsed": false
   },
   "outputs": [
    {
     "name": "stdout",
     "output_type": "stream",
     "text": [
      "1 loop, best of 3: 1.34 s per loop\n"
     ]
    }
   ],
   "source": [
    "res1 = func(a, b, c, d)\n",
    "%timeit sess.run(res1)"
   ]
  },
  {
   "cell_type": "code",
   "execution_count": 6,
   "metadata": {
    "collapsed": false
   },
   "outputs": [
    {
     "name": "stdout",
     "output_type": "stream",
     "text": [
      "The slowest run took 28.74 times longer than the fastest. This could mean that an intermediate result is being cached.\n",
      "1000 loops, best of 3: 767 µs per loop\n"
     ]
    }
   ],
   "source": [
    "res2 = optimized_func(a, b, c, d)\n",
    "%timeit sess.run(res2)"
   ]
  },
  {
   "cell_type": "markdown",
   "metadata": {},
   "source": [
    "### Look at the recommendations:"
   ]
  },
  {
   "cell_type": "code",
   "execution_count": 14,
   "metadata": {
    "collapsed": false
   },
   "outputs": [
    {
     "data": {
      "text/plain": [
       "{'<ipython-input-13-1748bfc6b08e>:2': array([0, 3, 1, 2])}"
      ]
     },
     "execution_count": 14,
     "metadata": {},
     "output_type": "execute_result"
    }
   ],
   "source": [
    "orders"
   ]
  },
  {
   "cell_type": "markdown",
   "metadata": {},
   "source": [
    "It means \"in file <ipython-input-13-1748bfc6b08e> line 2 change the order of arguments of einsum using permutation [0, 3, 1, 2]\", i.e. from\n",
    "    tf.einsum('si,sj,sk,ij->s', a, b, d, c)\n",
    "to \n",
    "    tf.einsum('si,ij,sj,sk->s', a, c, b, d)"
   ]
  }
 ],
 "metadata": {
  "kernelspec": {
   "display_name": "Python 2",
   "language": "python",
   "name": "python2"
  },
  "language_info": {
   "codemirror_mode": {
    "name": "ipython",
    "version": 2
   },
   "file_extension": ".py",
   "mimetype": "text/x-python",
   "name": "python",
   "nbconvert_exporter": "python",
   "pygments_lexer": "ipython2",
   "version": "2.7.13"
  }
 },
 "nbformat": 4,
 "nbformat_minor": 2
}
