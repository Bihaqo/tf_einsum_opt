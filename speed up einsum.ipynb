{
 "cells": [
  {
   "cell_type": "code",
   "execution_count": 3,
   "metadata": {
    "collapsed": false,
    "deletable": true,
    "editable": true
   },
   "outputs": [],
   "source": [
    "import tf_einsum_opt\n",
    "import tensorflow as tf"
   ]
  },
  {
   "cell_type": "code",
   "execution_count": 4,
   "metadata": {
    "collapsed": false,
    "deletable": true,
    "editable": true
   },
   "outputs": [],
   "source": [
    "sess = tf.Session()"
   ]
  },
  {
   "cell_type": "code",
   "execution_count": null,
   "metadata": {
    "collapsed": true,
    "deletable": true,
    "editable": true
   },
   "outputs": [],
   "source": []
  },
  {
   "cell_type": "code",
   "execution_count": null,
   "metadata": {
    "collapsed": true,
    "deletable": true,
    "editable": true
   },
   "outputs": [],
   "source": []
  },
  {
   "cell_type": "code",
   "execution_count": 5,
   "metadata": {
    "collapsed": false,
    "deletable": true,
    "editable": true
   },
   "outputs": [
    {
     "name": "stdout",
     "output_type": "stream",
     "text": [
      "Found 2 einsums.\n",
      "The running time of the whole function is 0.000377 s\n",
      "Einsums constitue 65.1 % of the running time of the whole function (0.000245 s).\n",
      "The slowest einsum (on which we gonna focus) is located in <ipython-input-5-e408128fa8c0>:3 and it constitues 36.4 % of the running time of the whole function (0.000137 s).\n",
      "Nothing to improove, einsums are already too fast.\n"
     ]
    }
   ],
   "source": [
    "def func(a, b, c):\n",
    "    res = tf.einsum('ijk,ja,kb->iab', a, b, c) + 1\n",
    "    res = tf.einsum('iab,kb->iak', res, c)\n",
    "    return res\n",
    "a = tf.random_normal((10, 11, 12))\n",
    "b = tf.random_normal((11, 13))\n",
    "c = tf.random_normal((12, 14))\n",
    "# res = func(a, b, c)\n",
    "tf_einsum_opt.optimizer(func, sess, a, b, c)"
   ]
  },
  {
   "cell_type": "code",
   "execution_count": null,
   "metadata": {
    "collapsed": true,
    "deletable": true,
    "editable": true
   },
   "outputs": [],
   "source": []
  },
  {
   "cell_type": "code",
   "execution_count": null,
   "metadata": {
    "collapsed": true,
    "deletable": true,
    "editable": true
   },
   "outputs": [],
   "source": []
  },
  {
   "cell_type": "code",
   "execution_count": null,
   "metadata": {
    "collapsed": true,
    "deletable": true,
    "editable": true
   },
   "outputs": [],
   "source": []
  }
 ],
 "metadata": {
  "kernelspec": {
   "display_name": "Python 2",
   "language": "python",
   "name": "python2"
  }
 },
 "nbformat": 4,
 "nbformat_minor": 2
}
